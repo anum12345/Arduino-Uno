def cal(A,B,C):
    if(C=='+'):
        Ans=A+B
        print("Sum is",Ans)
    elif(C=='-'):
        Ans=A-B
        print("Difference is",Ans)
    elif(C=='/'):
        Ans=A/B
        print("Division is",Ans)
    elif(C=='*'):
        Ans=A*B
        print("Multiplication is",Ans)
    
A=int(input("Enter First Number "))
B=int(input("Enter Second Number "))
C=str(input("Enter any operation "))
cal(A,B,C)
